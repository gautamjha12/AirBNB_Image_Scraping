{
 "cells": [
  {
   "cell_type": "code",
   "execution_count": null,
   "metadata": {},
   "outputs": [],
   "source": [
    "    import requests\n",
    "    from bs4 import BeautifulSoup\n",
    "    import os"
   ]
  },
  {
   "cell_type": "code",
   "execution_count": null,
   "metadata": {},
   "outputs": [],
   "source": [
    "def scrap_images(url, folder):\n",
    "    try:\n",
    "        os.mkdir(os.path.join(os.getcwd(), folder))\n",
    "    except:\n",
    "        pass\n",
    "    os.chdir(os.path.join(os.getcwd(), folder))\n",
    "    r = requests.get(url)\n",
    "    soup = BeautifulSoup(r.text, 'html.parser')\n",
    "    images = soup.find_all('img')\n",
    "    for image in images:\n",
    "        name = (image['alt'])\n",
    "        link = (image['src'])\n",
    "        with open(name.replace(' ', '').replace('/', '').replace('\"','') + '.jpg', 'wb') as f:\n",
    "            im = requests.get(link)\n",
    "            f.write(im.content)\n",
    "            print(\"Downloading : \" , name)\n",
    "            \n",
    "scrap_images('https://www.airbnb.co.in/s/mumbai/homes?tab_id=home_tab&refinement_paths%5B%5D=%2Fhomes&flexible_trip_dates%5B%5D=april&flexible_trip_dates%5B%5D=march&flexible_trip_lengths%5B%5D=weekend_trip&date_picker_type=calendar&source=structured_search_input_header&search_type=search_query','AirBNB')"
   ]
  },
  {
   "cell_type": "code",
   "execution_count": null,
   "metadata": {},
   "outputs": [],
   "source": []
  },
  {
   "cell_type": "code",
   "execution_count": null,
   "metadata": {},
   "outputs": [],
   "source": []
  }
 ],
 "metadata": {
  "kernelspec": {
   "display_name": "Python 3",
   "language": "python",
   "name": "python3"
  },
  "language_info": {
   "codemirror_mode": {
    "name": "ipython",
    "version": 3
   },
   "file_extension": ".py",
   "mimetype": "text/x-python",
   "name": "python",
   "nbconvert_exporter": "python",
   "pygments_lexer": "ipython3",
   "version": "3.8.5"
  }
 },
 "nbformat": 4,
 "nbformat_minor": 4
}
